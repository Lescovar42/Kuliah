{
 "cells": [
  {
   "cell_type": "code",
   "execution_count": null,
   "id": "5effde45",
   "metadata": {},
   "outputs": [
    {
     "name": "stdout",
     "output_type": "stream",
     "text": [
      "Umur: 20, Tipe data: <class 'int'>\n"
     ]
    }
   ],
   "source": [
    "# 1. Integer (int): Bilangan bulat\n",
    "umur = 33\n",
    "print(f\"Umur: {umur}, Tipe data: {type(umur)}\")"
   ]
  },
  {
   "cell_type": "code",
   "execution_count": 4,
   "id": "dbed00b2",
   "metadata": {},
   "outputs": [
    {
     "name": "stdout",
     "output_type": "stream",
     "text": [
      "Tinggi: 175.5, Tipe data: <class 'float'>\n"
     ]
    }
   ],
   "source": [
    "# 2. Float (float): Bilangan desimal\n",
    "tinggi = 175.5\n",
    "print(f\"Tinggi: {tinggi}, Tipe data: {type(tinggi)}\")"
   ]
  },
  {
   "cell_type": "code",
   "execution_count": 3,
   "id": "9a079539",
   "metadata": {},
   "outputs": [
    {
     "name": "stdout",
     "output_type": "stream",
     "text": [
      "Nama: Mohamed Salah, Tipe data: <class 'str'>\n"
     ]
    }
   ],
   "source": [
    "# 3. String (str): Teks atau karakter\n",
    "nama = \"Mohamed Salah\"\n",
    "print(f\"Nama: {nama}, Tipe data: {type(nama)}\")"
   ]
  },
  {
   "cell_type": "code",
   "execution_count": 5,
   "id": "a8624df2",
   "metadata": {},
   "outputs": [
    {
     "name": "stdout",
     "output_type": "stream",
     "text": [
      "Apakah mahasiswa: True, Tipe data: <class 'bool'>\n"
     ]
    }
   ],
   "source": [
    "# 4. Boolean (bool): Nilai kebenaran (True atau False)\n",
    "is_mahasiswa = True\n",
    "print(f\"Apakah mahasiswa: {is_mahasiswa}, Tipe data: {type(is_mahasiswa)}\")"
   ]
  },
  {
   "cell_type": "code",
   "execution_count": 6,
   "id": "a4e36a0e",
   "metadata": {},
   "outputs": [
    {
     "name": "stdout",
     "output_type": "stream",
     "text": [
      "Nilai ujian: [85, 90, 99, 92], Tipe data: <class 'list'>\n"
     ]
    }
   ],
   "source": [
    "# 5. List (list): Kumpulan data yang terurut dan dapat diubah (mutable)\n",
    "nilai_ujian = [85, 90, 99, 92]\n",
    "print(f\"Nilai ujian: {nilai_ujian}, Tipe data: {type(nilai_ujian)}\")"
   ]
  },
  {
   "cell_type": "code",
   "execution_count": 9,
   "id": "7d191c9b",
   "metadata": {},
   "outputs": [
    {
     "name": "stdout",
     "output_type": "stream",
     "text": [
      "Koordinat: (10, 20), Tipe data: <class 'tuple'>\n"
     ]
    }
   ],
   "source": [
    "# 6. Tuple (tuple): Kumpulan data yang terurut dan tidak dapat diubah (immutable)\n",
    "koordinat = (10, 20)\n",
    "print(f\"Koordinat: {koordinat}, Tipe data: {type(koordinat)}\")"
   ]
  },
  {
   "cell_type": "code",
   "execution_count": 8,
   "id": "6d43f847",
   "metadata": {},
   "outputs": [
    {
     "name": "stdout",
     "output_type": "stream",
     "text": [
      "Data diri: {'nama': 'Mo Salah', 'umur': 33, 'jurusan': 'Informatika'}, Tipe data: <class 'dict'>\n"
     ]
    }
   ],
   "source": [
    "# 7. Dictionary (dict): Kumpulan data berupa pasangan kunci-nilai (key-value pairs)\n",
    "data_diri = {\"nama\": \"Mo Salah\", \"umur\": 33, \"jurusan\": \"Informatika\"}\n",
    "print(f\"Data diri: {data_diri}, Tipe data: {type(data_diri)}\")"
   ]
  },
  {
   "cell_type": "code",
   "execution_count": 7,
   "id": "a8ea0f55",
   "metadata": {},
   "outputs": [
    {
     "name": "stdout",
     "output_type": "stream",
     "text": [
      "Mata kuliah: {'Dasar Pemrograman', 'Dasar Sistem', 'Aljabar Linier'}, Tipe data: <class 'set'>\n"
     ]
    }
   ],
   "source": [
    "# 8. Set (set): Kumpulan data yang tidak terurut, unik, dan dapat diubah\n",
    "mata_kuliah = {\"Dasar Pemrograman\", \"Dasar Sistem\", \"Aljabar Linier\"}\n",
    "print(f\"Mata kuliah: {mata_kuliah}, Tipe data: {type(mata_kuliah)}\")"
   ]
  }
 ],
 "metadata": {
  "kernelspec": {
   "display_name": "Python 3",
   "language": "python",
   "name": "python3"
  },
  "language_info": {
   "codemirror_mode": {
    "name": "ipython",
    "version": 3
   },
   "file_extension": ".py",
   "mimetype": "text/x-python",
   "name": "python",
   "nbconvert_exporter": "python",
   "pygments_lexer": "ipython3",
   "version": "3.13.7"
  }
 },
 "nbformat": 4,
 "nbformat_minor": 5
}
